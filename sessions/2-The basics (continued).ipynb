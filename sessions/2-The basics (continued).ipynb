{
 "cells": [
  {
   "cell_type": "code",
   "execution_count": 11,
   "id": "4af41d45-8c8b-42b5-a99d-0b0e339984e3",
   "metadata": {},
   "outputs": [],
   "source": [
    "import random"
   ]
  },
  {
   "cell_type": "markdown",
   "id": "f821cf9e-1924-4c73-947e-d20acba7f1be",
   "metadata": {},
   "source": [
    "# Loops\n",
    "\n",
    "It is common that the same operations/actions need to be repeated for a collection of items. \n",
    "There are many ways of doing this. Here we explore some common approaches.\n",
    "\n",
    "## for loop\n",
    "\n",
    "Let's understand the following example:"
   ]
  },
  {
   "cell_type": "code",
   "execution_count": null,
   "id": "bba8841e-9b32-4da6-afe5-b1db342d5f54",
   "metadata": {},
   "outputs": [],
   "source": [
    "for i in [1, 2, 3, 4, 5, 6]:\n",
    "    print(i)\n",
    "    j = i + 2\n",
    "    print(f\"i + 2 is {j}\")"
   ]
  },
  {
   "cell_type": "markdown",
   "id": "15caa4c3-9c6f-4159-95d1-e5fbb7186a43",
   "metadata": {},
   "source": [
    "In this example, the \"for i in [1, 2, 3, 4, 5, 6]\" is telling python that we want i to be the values 1, 2, 3, 4, 5, and 6 in that order and then \n",
    "1. print the value of i\n",
    "2. compute j as adding 2 to the value of i\n",
    "3. print the sentence \"i + 2 is ...\" where the appropiate value is put.\n",
    "\n",
    "**Exercice:**\n",
    "Find out what f\" means in Python and write an complete the following code:"
   ]
  },
  {
   "cell_type": "code",
   "execution_count": 6,
   "id": "4f53ff5d-9abd-44e5-9c4a-52e131f5f022",
   "metadata": {},
   "outputs": [
    {
     "name": "stdout",
     "output_type": "stream",
     "text": [
      "Try again!\n"
     ]
    }
   ],
   "source": [
    "lab = \"Rui's Lab\"\n",
    "nb_students = 10\n",
    "your_string = f\"\" # Fill what should be inside quotation marks\n",
    "should_say = \"There are 10 students in Rui's Lab\"\n",
    "\n",
    "if your_string == should_say:\n",
    "    print(\"Great work!\")\n",
    "else:\n",
    "    print(\"Try again!\")"
   ]
  },
  {
   "cell_type": "markdown",
   "id": "e23239f9-5293-4ab1-ad8a-f3e2adefc65f",
   "metadata": {},
   "source": [
    "In the following exercises we evolve the solution of loops and try to add complexity one step at the time:\n",
    "\n",
    "**Exercise:**\n",
    "Write a for loop that allows you to compute the sum of the fifth powers of numbers between 1 and 5. That is we want to use for loops to compute $1^5 + 2^5 + 3^5 + 4^5 + 5^5$."
   ]
  },
  {
   "cell_type": "code",
   "execution_count": null,
   "id": "e8c76c77-aa1b-498e-9841-92c450716d29",
   "metadata": {},
   "outputs": [],
   "source": [
    "total = 0\n",
    "for i in []: # Fix this code\n",
    "    total += i ** 5 # What does += do? \n",
    "print(total)"
   ]
  },
  {
   "cell_type": "markdown",
   "id": "d0ccf687-5520-469b-9a06-81e3aa439c3d",
   "metadata": {},
   "source": [
    "**Exercise:** This code lacks flexibility, what if we want to compute the same, but instead from 1 to 7, or from 1 to 1000?\n",
    "- Find out what range(n) does in python?\n",
    "- Create a function *sum_of_powers(n)* that allows you to print the sum of the fifht powers from the numbers between 1 and n."
   ]
  },
  {
   "cell_type": "code",
   "execution_count": 8,
   "id": "7ead0a07-26fe-426a-ba1c-462774af51a0",
   "metadata": {},
   "outputs": [],
   "source": [
    "def sum_of_powers(n):\n",
    "    \n",
    "    # Your code here\n",
    "    \n",
    "    print(total)"
   ]
  },
  {
   "cell_type": "markdown",
   "id": "6545216c-b335-4667-ab8e-8d51a3c7e6bd",
   "metadata": {},
   "source": [
    "**Exercice:** Modify the previous function as to allow to compute the sum of any power!"
   ]
  },
  {
   "cell_type": "code",
   "execution_count": 9,
   "id": "ac95c884-0e55-4a52-a75e-99e26ec42cf9",
   "metadata": {},
   "outputs": [],
   "source": [
    "def sum_of_powers(n, k=5):\n",
    "    \n",
    "    # Your code here\n",
    "    \n",
    "    print(total)"
   ]
  },
  {
   "cell_type": "markdown",
   "id": "9576621d-6b4d-4776-83b9-635594834510",
   "metadata": {},
   "source": [
    "**Exercise:** Suppose now that we have two types of numbers, red number and blue numbers. We want the red numbers to be added to the 4th power and the blue ones to the fifth power.\n",
    "\n",
    "1. Create a class that represents the number.\n",
    "2. Create n random colored numbers\n",
    "3. Create a function that sums such numbers\n",
    "4. Try it out"
   ]
  },
  {
   "cell_type": "code",
   "execution_count": 18,
   "id": "212d00fb-7634-4165-b60b-87038772a6d1",
   "metadata": {},
   "outputs": [],
   "source": [
    "class SpecialNumber:\n",
    "\n",
    "    def __init__(self, color, value):\n",
    "        \n",
    "        # your code\n",
    "        pass"
   ]
  },
  {
   "cell_type": "code",
   "execution_count": 19,
   "id": "c9e36fd8-2581-47c5-9ab0-944e7dd3741e",
   "metadata": {},
   "outputs": [],
   "source": [
    "def create_random_special_numbers(n):\n",
    "    random_special_numbers = []\n",
    "    for i in range(n):\n",
    "        \n",
    "        if random.random() > 0.5: # What does this do??\n",
    "            pass  # add red number\n",
    "        else:\n",
    "            pass # add blue number\n",
    "            \n",
    "    return random_special_numbers"
   ]
  },
  {
   "cell_type": "code",
   "execution_count": 20,
   "id": "ad98fbe3-7376-4429-a000-e590e6e4a645",
   "metadata": {},
   "outputs": [],
   "source": [
    "def sum_special_numbers(special_numbers_lst):\n",
    "    total = 0\n",
    "    for special_number in special_numbers_lst:\n",
    "        pass # write your code here\n",
    "    return total"
   ]
  },
  {
   "cell_type": "markdown",
   "id": "70ad264e-59f0-4f84-857f-636caf08c5ca",
   "metadata": {},
   "source": [
    "Let's create a test"
   ]
  },
  {
   "cell_type": "code",
   "execution_count": 22,
   "id": "14d99f9c-def4-4712-a35b-ff7685fa6122",
   "metadata": {},
   "outputs": [
    {
     "data": {
      "text/plain": [
       "False"
      ]
     },
     "execution_count": 22,
     "metadata": {},
     "output_type": "execute_result"
    }
   ],
   "source": [
    "test_numbers = [SpecialNumber(\"red\", 2), SpecialNumber(\"blue\", 2)]\n",
    "sum_special_numbers(test_numbers) == 2 ** 4 + 2 ** 5"
   ]
  },
  {
   "cell_type": "markdown",
   "id": "f680db2b-b0ff-46bc-8ec2-cae386615e14",
   "metadata": {},
   "source": [
    "Let's try it in 100 random special numbers"
   ]
  },
  {
   "cell_type": "code",
   "execution_count": 21,
   "id": "d8698779-f6e3-49ea-a3ce-5eff6373265e",
   "metadata": {},
   "outputs": [
    {
     "data": {
      "text/plain": [
       "0"
      ]
     },
     "execution_count": 21,
     "metadata": {},
     "output_type": "execute_result"
    }
   ],
   "source": [
    "special_numbers_lst = create_random_special_numbers(100)\n",
    "sum_special_numbers(special_numbers_lst)"
   ]
  },
  {
   "cell_type": "markdown",
   "id": "ab82cf5e-3672-4d11-82c4-813ea2e65a7a",
   "metadata": {},
   "source": [
    "## Speed matters (Advanced)\n",
    "\n",
    "There are many ways to reach the same result. But not all ways get there at the same time. For most cases this is not a major bottleneck, but in some circunstances, like simulations, speed matters. \n",
    "\n",
    "We can use a library called timeit to messure how long does your computer takes to run the same code a number of times. The example bellow shows how long it takes to create a list with the numbers 1 to 2000 using 3 different approaches. "
   ]
  },
  {
   "cell_type": "code",
   "execution_count": 23,
   "id": "2ff64da1-a2b1-43b5-a97b-22ca849eb974",
   "metadata": {},
   "outputs": [],
   "source": [
    "import timeit"
   ]
  },
  {
   "cell_type": "code",
   "execution_count": 34,
   "id": "1f4fed2f-032a-44f3-a1c2-9f526b916b35",
   "metadata": {},
   "outputs": [
    {
     "name": "stdout",
     "output_type": "stream",
     "text": [
      "0.1035231670102803\n",
      "0.05037562501092907\n",
      "0.022848000007797964\n"
     ]
    }
   ],
   "source": [
    "def slow():\n",
    "    example = []\n",
    "    for i in range(2000):\n",
    "        example.append(i)\n",
    "    return example\n",
    "\n",
    "\n",
    "def medium():\n",
    "    return [i for i in range(2000)] #This is called list comprehension \n",
    "\n",
    "def fast():\n",
    "    return list(range(2000))\n",
    "\n",
    "print(timeit.timeit(lambda: slow(), number=1000))\n",
    "print(timeit.timeit(lambda: medium(), number=1000))\n",
    "print(timeit.timeit(lambda: fast(), number=1000))"
   ]
  },
  {
   "cell_type": "code",
   "execution_count": null,
   "id": "ace91589-7771-4eaf-bb65-44547369772c",
   "metadata": {},
   "outputs": [],
   "source": []
  }
 ],
 "metadata": {
  "kernelspec": {
   "display_name": "Python 3 (ipykernel)",
   "language": "python",
   "name": "python3"
  },
  "language_info": {
   "codemirror_mode": {
    "name": "ipython",
    "version": 3
   },
   "file_extension": ".py",
   "mimetype": "text/x-python",
   "name": "python",
   "nbconvert_exporter": "python",
   "pygments_lexer": "ipython3",
   "version": "3.12.5"
  }
 },
 "nbformat": 4,
 "nbformat_minor": 5
}
