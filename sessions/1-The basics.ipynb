{
 "cells": [
  {
   "cell_type": "markdown",
   "id": "fc109161-9cda-4df8-b3a3-c44a854624dc",
   "metadata": {},
   "source": [
    "# Running notebooks\n",
    "\n",
    "A cell is a place where something is written. There are two majos types: Markdown (text) and code. The following shortcuts are helpful to learn by heart:\n",
    "\n",
    "- shit + enter: runs the cell\n",
    "- Escape + m: changes the cell to markdown type\n",
    "- Escapte + y: changes the cell to code type\n",
    "\n",
    "___\n",
    "## Exercise:\n",
    "Change the following cell to markdown and run it"
   ]
  },
  {
   "cell_type": "code",
   "execution_count": null,
   "id": "1a2adc68-da7e-47e6-a045-da78a4e26b69",
   "metadata": {},
   "outputs": [],
   "source": [
    "Normal text\n",
    "\n",
    "# A title\n",
    "## A subtitle\n",
    "### A subsubtitle\n",
    "\n",
    "*italics*\n",
    "\n",
    "**bold**"
   ]
  },
  {
   "cell_type": "markdown",
   "id": "15daaa16-baf6-48fd-937b-2d6b2ada80bf",
   "metadata": {},
   "source": [
    "___\n",
    "## Exercise:\n",
    "Change the following cell to code and understand what each operation is. "
   ]
  },
  {
   "cell_type": "markdown",
   "id": "4a88fd65-b22a-4238-95f9-e0d18a6f6067",
   "metadata": {},
   "source": [
    "print(3 +5)\n",
    "print(5 / 3)\n",
    "print(5 // 3)\n",
    "print(5 % 3)\n",
    "print(5 ** 3)\n",
    "print(5 ^ 3) # (harder)"
   ]
  },
  {
   "cell_type": "markdown",
   "id": "b492f1ca-f73d-4c8b-8656-16b6713fb130",
   "metadata": {},
   "source": [
    "___\n",
    "\n",
    "# Errors\n",
    "\n",
    "We will learn more about errors later, when a cell runs into some issue running it will show an error, for example:"
   ]
  },
  {
   "cell_type": "code",
   "execution_count": null,
   "id": "a95ff526-c231-45e5-a101-4474bb50e53d",
   "metadata": {},
   "outputs": [],
   "source": [
    "1 - 3 + a"
   ]
  },
  {
   "cell_type": "markdown",
   "id": "8479a7bd-c643-48ad-aa9c-dc352e41dbd2",
   "metadata": {},
   "source": [
    "It is of the most importance to understand the errors as to know how to resolve them (debug)"
   ]
  },
  {
   "cell_type": "markdown",
   "id": "28df743f-7d4c-480d-b218-79833109abdc",
   "metadata": {},
   "source": [
    "# About the things we are using in Python\n",
    "\n",
    "An object is a representation of something that holds both data, and ways to manipulate the internal data or data from other objects. **In Python everything is an object!** This includes the numbers, strings, list, functions, etc. and everything else we work with. \n",
    "\n",
    "Every object has a type (for our purposes this is also referred as a class) that corresponds to the generic concept the object is representing. We can access the type by using the ```type()``` function in Python."
   ]
  },
  {
   "cell_type": "code",
   "execution_count": 1,
   "id": "d4c341d2-e5b3-4927-b98f-12c6c2ac1ef9",
   "metadata": {},
   "outputs": [
    {
     "data": {
      "text/plain": [
       "str"
      ]
     },
     "execution_count": 1,
     "metadata": {},
     "output_type": "execute_result"
    }
   ],
   "source": [
    "type(\"Rui told me to clean the tubes again!\")"
   ]
  },
  {
   "cell_type": "markdown",
   "id": "3ee3133e-2711-41eb-8be6-061550f35843",
   "metadata": {},
   "source": [
    "So, the expression \"Rui told me to clean the tubes again!\" is an object of the type string. "
   ]
  },
  {
   "cell_type": "markdown",
   "id": "9a5f6f7e-f92c-442b-8774-da8bdb352697",
   "metadata": {},
   "source": [
    "---\n",
    "## Exercise\n",
    "\n",
    "Are 2.0 and 2 the same object in Python? (Hint: use type in each of them, do you get the same result?)"
   ]
  },
  {
   "cell_type": "code",
   "execution_count": null,
   "id": "fcf9fd55-3543-4324-adf6-7560017b3f6d",
   "metadata": {},
   "outputs": [],
   "source": [
    "# Use type to answer the question here"
   ]
  },
  {
   "cell_type": "markdown",
   "id": "db49b501-e438-4645-950d-82d888baea68",
   "metadata": {},
   "source": [
    "If they are not the same thing, why does the following work?"
   ]
  },
  {
   "cell_type": "code",
   "execution_count": 2,
   "id": "d3163954-4cb8-49d1-a87e-559d97a86a7e",
   "metadata": {},
   "outputs": [
    {
     "data": {
      "text/plain": [
       "True"
      ]
     },
     "execution_count": 2,
     "metadata": {},
     "output_type": "execute_result"
    }
   ],
   "source": [
    "2 == 2.0"
   ]
  },
  {
   "cell_type": "markdown",
   "id": "83a2c20b-1c32-4559-b359-cc9a82930e42",
   "metadata": {},
   "source": [
    "---\n",
    "\n",
    "# Methods / Functions\n",
    "\n",
    "For most applications in the lab we will be dealing with functions that we create to serve some purposes (note that functions are also objects, but we seldom ever use the object nature of functions in these notes). A function has a simple form that is better illustrated by an example"
   ]
  },
  {
   "cell_type": "code",
   "execution_count": 3,
   "id": "51861f94-e5a0-458b-b0d2-abcca4ca5ea2",
   "metadata": {},
   "outputs": [],
   "source": [
    "def compute_the_third_power(x):\n",
    "    return x ** 3"
   ]
  },
  {
   "cell_type": "markdown",
   "id": "2069662c-8f79-42c4-8c53-e92d889287ed",
   "metadata": {},
   "source": [
    "After running the previous cell, the function becomes available for the rest of the duration of the notebook and for every cell (above or bellow)"
   ]
  },
  {
   "cell_type": "code",
   "execution_count": 4,
   "id": "fb4bb446-54bf-4688-a98f-66b9bf611c82",
   "metadata": {},
   "outputs": [
    {
     "data": {
      "text/plain": [
       "125"
      ]
     },
     "execution_count": 4,
     "metadata": {},
     "output_type": "execute_result"
    }
   ],
   "source": [
    "compute_the_third_power(5)"
   ]
  },
  {
   "cell_type": "markdown",
   "id": "70a4e337-f325-4b2d-af6d-17633dcee9a2",
   "metadata": {},
   "source": [
    "If the return line is not writen we still get an answer, but what is it? \n",
    "\n",
    "---\n",
    "## Exercise:\n",
    "Create a function without the return line and find out what it returns"
   ]
  },
  {
   "cell_type": "code",
   "execution_count": null,
   "id": "ea25048b-6f8f-4be2-bf3e-3701a7e2f247",
   "metadata": {},
   "outputs": [],
   "source": [
    "# Write the solution here"
   ]
  },
  {
   "cell_type": "markdown",
   "id": "014cb20c-df3d-410c-8ad1-128a3e228051",
   "metadata": {},
   "source": [
    "___\n",
    "Functions can have default values for some of the arguments, look at the behaviour bellow"
   ]
  },
  {
   "cell_type": "code",
   "execution_count": 5,
   "id": "44cf133f-e648-4b39-a2e9-95c6876e0b1b",
   "metadata": {},
   "outputs": [
    {
     "data": {
      "text/plain": [
       "(125, 125, 25)"
      ]
     },
     "execution_count": 5,
     "metadata": {},
     "output_type": "execute_result"
    }
   ],
   "source": [
    "def compute_the_n_power(x, n=3):\n",
    "    return x ** n\n",
    "\n",
    "compute_the_n_power(5), compute_the_n_power(5, 3), compute_the_n_power(5, 2)"
   ]
  },
  {
   "cell_type": "markdown",
   "id": "2846269c-f029-492e-9a0b-1bc26d697604",
   "metadata": {},
   "source": [
    "---\n",
    "# Exercise:\n",
    "Create a function that takes 2 numbers a and b and returns a/b."
   ]
  },
  {
   "cell_type": "code",
   "execution_count": null,
   "id": "720b6130-f978-4437-bdb4-8f8f44996969",
   "metadata": {},
   "outputs": [],
   "source": [
    "def divide(a, b):\n",
    "    # Write your code here"
   ]
  },
  {
   "cell_type": "markdown",
   "id": "65b81e39-7665-42f6-85c7-bc7b51a54a2d",
   "metadata": {},
   "source": [
    "Should the function always work? Run the following cell"
   ]
  },
  {
   "cell_type": "code",
   "execution_count": null,
   "id": "e1f19c5e-7b00-4079-9eff-4999d9a6236b",
   "metadata": {},
   "outputs": [],
   "source": [
    "divide(5, 0)"
   ]
  },
  {
   "cell_type": "markdown",
   "id": "1d1c169a-0ca4-4252-bcef-7e0c568cc082",
   "metadata": {},
   "source": [
    "Study the meesage that you get, do you understand every detail of it?\n",
    "\n",
    "---"
   ]
  },
  {
   "cell_type": "markdown",
   "id": "b7aac022-753b-4af6-87d8-13d2526a035b",
   "metadata": {},
   "source": [
    "# Objects\n",
    "\n",
    "In Python we can create objects by instantiating class. That is we create a class first. \n",
    "\n",
    "Suppose that we want to keep track of starter cultures. For simplicity, we think on the starter culture as the combination of the insert in the plasmid and the initial size (in mililiters)."
   ]
  },
  {
   "cell_type": "code",
   "execution_count": 6,
   "id": "432dfb3a-1b1b-4576-8aec-e19cd79b63b9",
   "metadata": {},
   "outputs": [],
   "source": [
    "class StarterCulture:\n",
    "\n",
    "    def __init__(self, insert_in_the_plasmid, initial_size=5):\n",
    "        self.insert_in_the_plasmid = insert_in_the_plasmid\n",
    "        self.initial_size = initial_size\n",
    "        self.overnight_size = None\n",
    "\n",
    "    def record_overnight_size(self, new_size):\n",
    "        self.overnight_size = new_size"
   ]
  },
  {
   "cell_type": "markdown",
   "id": "452cca0b-629f-479b-9c3d-6de15fa3a7cb",
   "metadata": {},
   "source": [
    "Let's breakdown this block of code:\n",
    "\n",
    "- The keyword **class** means that we will define a class\n",
    "- The name **StarterCulture** is the name we give to the class\n",
    "- The **\\_\\_init\\_\\_** method has three arguments. The **self** one, which refers to the object that will be created, the **insert\\_in\\_the\\_plasmid** which is mandatory since it doesn't have default value, and the **initial\\_size** which has default value of 5 ml.\n",
    "- The expresions of the form **self.\\<something\\>** corresponds to something stored in the object. So for example **self.initial\\_size = initial\\_size** takes the argument **initial\\_size** and stores it in the object under the attribute **self.initial\\_size**.\n",
    "- The method **record\\_overnight\\_size** helps storing the **new\\_size** in the object\n",
    "\n",
    "We can now use this to store all last weeks cultures"
   ]
  },
  {
   "cell_type": "code",
   "execution_count": 7,
   "id": "2a7ab5ad-a5c1-4a28-8114-3ff9db1770a9",
   "metadata": {},
   "outputs": [],
   "source": [
    "moday_culture = StarterCulture(\"p47\")\n",
    "tuesday_culture = StarterCulture(\"ymel\")\n",
    "wednesday_culture = StarterCulture(\"ymel\", 10)\n",
    "thursday_culture = StarterCulture(\"p47\", 3)\n",
    "friday_culture = StarterCulture(\"p47\")"
   ]
  },
  {
   "cell_type": "markdown",
   "id": "6cb8a12e-5f32-482f-b201-3ea2c001170b",
   "metadata": {},
   "source": [
    "If we later want to find out info about a specific culture, we can look at the attributes"
   ]
  },
  {
   "cell_type": "code",
   "execution_count": 8,
   "id": "1ff6a295-2290-44d6-82f7-215091fe3154",
   "metadata": {},
   "outputs": [
    {
     "data": {
      "text/plain": [
       "'ymel'"
      ]
     },
     "execution_count": 8,
     "metadata": {},
     "output_type": "execute_result"
    }
   ],
   "source": [
    "wednesday_culture.insert_in_the_plasmid "
   ]
  },
  {
   "cell_type": "markdown",
   "id": "4757a306-c9d4-4be2-a3a1-1166d5da3089",
   "metadata": {},
   "source": [
    "If we wanted to record what happens to the wednesday_culture when we saw it on Thursday we would do"
   ]
  },
  {
   "cell_type": "code",
   "execution_count": 9,
   "id": "10b36e14-e840-4c79-adff-03ff27aa505b",
   "metadata": {},
   "outputs": [
    {
     "name": "stdout",
     "output_type": "stream",
     "text": [
      "None\n",
      "12\n"
     ]
    }
   ],
   "source": [
    "print(wednesday_culture.overnight_size)\n",
    "wednesday_culture.record_overnight_size(12)\n",
    "print(wednesday_culture.overnight_size)"
   ]
  },
  {
   "cell_type": "markdown",
   "id": "2ed82ef9-ec3b-496c-ba27-5d61517a18f4",
   "metadata": {},
   "source": [
    "### Remark (Advanced):\n",
    "A careful reader may be wondering why we didn't pass the self argument when creating the objects or when using the function **record\\_overnight\\_size**. All programming language have \"syntathic sugar\", this is a convention on the way of writting that hides complexity that tends to be often repeated hence improving user experience. So for example:"
   ]
  },
  {
   "cell_type": "code",
   "execution_count": 10,
   "id": "27c97f69-9568-41d0-ba0e-774c78098eca",
   "metadata": {},
   "outputs": [
    {
     "data": {
      "text/plain": [
       "'ymel'"
      ]
     },
     "execution_count": 10,
     "metadata": {},
     "output_type": "execute_result"
    }
   ],
   "source": [
    "tuesday_culture = StarterCulture(\"ymel\")\n",
    "tuesday_culture.insert_in_the_plasmid"
   ]
  },
  {
   "cell_type": "markdown",
   "id": "96a76fcc-ac3d-4c46-90ce-94ef72651199",
   "metadata": {},
   "source": [
    "is the same as "
   ]
  },
  {
   "cell_type": "code",
   "execution_count": 11,
   "id": "3ee22c5f-93bb-4151-b096-311dc38e5c46",
   "metadata": {},
   "outputs": [
    {
     "data": {
      "text/plain": [
       "'ymel'"
      ]
     },
     "execution_count": 11,
     "metadata": {},
     "output_type": "execute_result"
    }
   ],
   "source": [
    "tuesday_culture_without_sugar = object.__new__(StarterCulture) # object is an internal python type representing any object\n",
    "StarterCulture.__init__(tuesday_culture_without_sugar, \"ymel\")\n",
    "tuesday_culture_without_sugar.insert_in_the_plasmid"
   ]
  },
  {
   "cell_type": "markdown",
   "id": "86d8083d-f775-4b61-9d23-1bbcc1501e8c",
   "metadata": {},
   "source": [
    "and the following two cells are equivalent"
   ]
  },
  {
   "cell_type": "code",
   "execution_count": 12,
   "id": "6cc2b112-571a-4aa3-82af-90ceb73146db",
   "metadata": {},
   "outputs": [
    {
     "data": {
      "text/plain": [
       "6"
      ]
     },
     "execution_count": 12,
     "metadata": {},
     "output_type": "execute_result"
    }
   ],
   "source": [
    "tuesday_culture.record_overnight_size(6)\n",
    "tuesday_culture.overnight_size"
   ]
  },
  {
   "cell_type": "code",
   "execution_count": 13,
   "id": "b94a8a36-a8fb-4a89-9fe7-8277f06c2b01",
   "metadata": {},
   "outputs": [
    {
     "data": {
      "text/plain": [
       "6"
      ]
     },
     "execution_count": 13,
     "metadata": {},
     "output_type": "execute_result"
    }
   ],
   "source": [
    "StarterCulture.record_overnight_size(tuesday_culture_without_sugar, 6)\n",
    "tuesday_culture_without_sugar.overnight_size"
   ]
  },
  {
   "cell_type": "markdown",
   "id": "d7add185-96ab-4064-9d50-a7b947a4991c",
   "metadata": {},
   "source": [
    "___\n",
    "## Exercise:\n",
    "Create a class with at least one method"
   ]
  },
  {
   "cell_type": "code",
   "execution_count": null,
   "id": "327b4b73-78af-4e6d-8644-8137f0b8df60",
   "metadata": {},
   "outputs": [],
   "source": [
    "# Write your class here"
   ]
  },
  {
   "cell_type": "markdown",
   "id": "efeb8a92-7538-41d0-b2eb-745ded028f76",
   "metadata": {},
   "source": [
    "___\n",
    "# If ... else ... statements\n",
    "Typically you will find situations where depending of a set of conditions the code should do something and if the conditions are not satisfied it should do something else, this is handled in Python via the if statements. Here is an example"
   ]
  },
  {
   "cell_type": "code",
   "execution_count": 14,
   "id": "bef1bfcc-c29b-4503-8650-d2e94041af05",
   "metadata": {},
   "outputs": [
    {
     "name": "stdout",
     "output_type": "stream",
     "text": [
      "The culture grew\n"
     ]
    }
   ],
   "source": [
    "if wednesday_culture.overnight_size > 10:\n",
    "    print(\"The culture grew\")\n",
    "else:\n",
    "    print(\"Throw the culture away and start again\")"
   ]
  },
  {
   "cell_type": "markdown",
   "id": "0e9e6209-b10b-4542-9785-f69839b58d20",
   "metadata": {},
   "source": [
    "We can also have several options"
   ]
  },
  {
   "cell_type": "code",
   "execution_count": 15,
   "id": "19bf1de5-9009-4f13-abf4-cee4088db351",
   "metadata": {},
   "outputs": [
    {
     "name": "stdout",
     "output_type": "stream",
     "text": [
      "The culture grew\n"
     ]
    }
   ],
   "source": [
    "if 10 >= wednesday_culture.overnight_size > 5:\n",
    "    print(\"The culture grew, but not enough, try again\")\n",
    "elif wednesday_culture.overnight_size > 10:\n",
    "    print(\"The culture grew\")\n",
    "else:\n",
    "    print(\"Throw the culture away and start again\")"
   ]
  },
  {
   "cell_type": "markdown",
   "id": "b98e7f7a-aed3-4746-8941-91a8ec7f2df3",
   "metadata": {},
   "source": [
    "The power of functions now is that we can write the same logic so it works for any culture and not just the wednesday one.\n",
    "___\n",
    "## Exercise:\n",
    "Complete the following method"
   ]
  },
  {
   "cell_type": "code",
   "execution_count": null,
   "id": "07300c00-8012-4078-84cf-a9d4ea7f2d92",
   "metadata": {},
   "outputs": [],
   "source": [
    "def did_it_grow(culture):\n",
    "    # if ...\n",
    "    # elif ...\n",
    "    # else ...\n",
    "    return"
   ]
  },
  {
   "cell_type": "markdown",
   "id": "af638d7c-3bcb-47f2-8d62-03998eb8150e",
   "metadata": {},
   "source": [
    "does the following run and gives the expected result"
   ]
  },
  {
   "cell_type": "code",
   "execution_count": null,
   "id": "483e8629-50b5-46db-8a7e-e6b23641480e",
   "metadata": {},
   "outputs": [],
   "source": [
    "did_it_grow(wednesday_culture)"
   ]
  },
  {
   "cell_type": "markdown",
   "id": "551f418f-6b37-49ea-b62e-6cd33656e05a",
   "metadata": {},
   "source": [
    "What about this? Try understanding the message, how would you solve that problem? "
   ]
  },
  {
   "cell_type": "code",
   "execution_count": null,
   "id": "1bdb0c04-bc65-4b09-a47f-748c62e968df",
   "metadata": {},
   "outputs": [],
   "source": [
    "did_it_grow(moday_culture)"
   ]
  }
 ],
 "metadata": {
  "kernelspec": {
   "display_name": "Python 3 (ipykernel)",
   "language": "python",
   "name": "python3"
  },
  "language_info": {
   "codemirror_mode": {
    "name": "ipython",
    "version": 3
   },
   "file_extension": ".py",
   "mimetype": "text/x-python",
   "name": "python",
   "nbconvert_exporter": "python",
   "pygments_lexer": "ipython3",
   "version": "3.12.5"
  }
 },
 "nbformat": 4,
 "nbformat_minor": 5
}
